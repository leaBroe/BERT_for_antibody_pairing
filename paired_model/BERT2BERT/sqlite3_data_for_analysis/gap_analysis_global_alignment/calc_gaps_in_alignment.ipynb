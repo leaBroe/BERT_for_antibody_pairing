{
 "cells": [
  {
   "cell_type": "code",
   "id": "initial_id",
   "metadata": {
    "collapsed": true,
    "ExecuteTime": {
     "end_time": "2024-09-10T14:17:50.070400Z",
     "start_time": "2024-09-10T14:17:50.056808Z"
    }
   },
   "source": [
    "# https://biopython.org/docs/dev/Tutorial/chapter_pairwise.html\n",
    "from Bio import Align\n",
    "aligner = Align.PairwiseAligner()\n",
    "\n",
    "target = \"EVQLVESGGGLVKPGGSLRLSCAASGFTFSSYSMNWVRQAPGKGLEWVSSISSSSSYIYYADSVKGRFTISRDNAKNSLYLQMNSLRAEDTAVYYCASRGGDYVFSSYYYYGMDVWGQGTTVTVSS\"\n",
    "query = \"QSALTQPASVSGSPGQSITISCTGTSSDVGGYNYVSWYQQHPGKAPKLMIYEVSNRPSGVPDRFSGSKSGNTASLTISGLQAEDEADYYCSSYTSSSTLVFGGGTKLTVL\"\n",
    "score = aligner.score(target, query)\n",
    "score"
   ],
   "outputs": [
    {
     "data": {
      "text/plain": [
       "53.0"
      ]
     },
     "execution_count": 4,
     "metadata": {},
     "output_type": "execute_result"
    }
   ],
   "execution_count": 4
  },
  {
   "metadata": {
    "ExecuteTime": {
     "end_time": "2024-09-10T14:17:54.691150Z",
     "start_time": "2024-09-10T14:17:54.686381Z"
    }
   },
   "cell_type": "code",
   "source": "alignments = aligner.align(target, query)\n",
   "id": "33b3fa8551ea5264",
   "outputs": [],
   "execution_count": 5
  },
  {
   "metadata": {
    "ExecuteTime": {
     "end_time": "2024-09-12T08:32:33.286830Z",
     "start_time": "2024-09-12T08:32:33.272877Z"
    }
   },
   "cell_type": "code",
   "source": [
    "from Bio.Align import PairwiseAligner\n",
    "\n",
    "# Define the target and query sequences\n",
    "target = \"EIVLTQSPGTLSLSPGEAATLSCKSS\"\n",
    "query = \"EIVLTQSPATLSLSPGERATLSCRAS\"\n",
    "\n",
    "# Initialize the aligner\n",
    "aligner = PairwiseAligner()\n",
    "\n",
    "# Set the alignment mode to global\n",
    "aligner.mode = 'global'\n",
    "\n",
    "# Perform global alignment\n",
    "alignments = aligner.align(target, query)\n",
    "\n",
    "# Get the best alignment (the first one, usually)\n",
    "best_alignment = alignments[0]\n",
    "\n",
    "# Print the alignment\n",
    "print(best_alignment)\n",
    "\n",
    "# Extract aligned sequences\n",
    "aligned_target = best_alignment[0]\n",
    "aligned_query = best_alignment[1]\n",
    "\n",
    "# Count the gaps\n",
    "gaps_in_target = aligned_target.count(\"-\")\n",
    "gaps_in_query = aligned_query.count(\"-\")\n",
    "total_gaps = gaps_in_target + gaps_in_query\n",
    "\n",
    "# Calculate alignment length (non-gap characters)\n",
    "alignment_length = max(len(aligned_target), len(aligned_query))\n",
    "\n",
    "# Calculate gap density\n",
    "gap_density = total_gaps / alignment_length\n",
    "\n",
    "# Print the normalized gap values\n",
    "print(f\"Total gaps: {total_gaps}\")\n",
    "print(f\"Alignment length: {alignment_length}\")\n",
    "print(f\"Gap Density: {gap_density:.4f}\")"
   ],
   "id": "c42f944ae8f8d0d6",
   "outputs": [
    {
     "name": "stdout",
     "output_type": "stream",
     "text": [
      "target            0 EIVLTQSPG-TLSLSPGE-AATLSCK--SS 26\n",
      "                  0 ||||||||--||||||||-|-||||---|- 30\n",
      "query             0 EIVLTQSP-ATLSLSPGERA-TLSC-RAS- 26\n",
      "\n",
      "Total gaps: 8\n",
      "Alignment length: 30\n",
      "Gap Density: 0.2667\n"
     ]
    }
   ],
   "execution_count": 21
  },
  {
   "metadata": {
    "ExecuteTime": {
     "end_time": "2024-09-12T09:32:38.812334Z",
     "start_time": "2024-09-12T09:31:43.326773Z"
    }
   },
   "cell_type": "code",
   "source": [
    "import pandas as pd\n",
    "from Bio.Align import PairwiseAligner\n",
    "\n",
    "# Load the CSV file\n",
    "file_path = '/Users/leabroennimann/Desktop/R_analysis_per_regions/full_test_set_true_gen_seqs_all_relevant_cols_sorted.csv'  \n",
    "data = pd.read_csv(file_path)\n",
    "\n",
    "# set all types of data to string\n",
    "data = data.astype(str)\n",
    "\n",
    "#data = data.head(10)\n",
    "\n",
    "# Initialize the aligner for global alignment\n",
    "aligner = PairwiseAligner()\n",
    "aligner.mode = 'global'\n",
    "\n",
    "# Regions to compare\n",
    "regions = [\"fwr1_aa\", \"cdr1_aa\", \"fwr2_aa\", \"cdr2_aa\", \"fwr3_aa\", \"cdr3_aa\", \"fwr4_aa_correct\"]\n",
    "\n",
    "# Initialize dictionaries to store the sum of normalized gaps and counts for each region\n",
    "normalized_gap_sums = {region: 0 for region in regions}\n",
    "count_per_region = {region: 0 for region in regions}\n",
    "\n",
    "# Iterate over the dataset, assuming \"True\" and \"Generated\" sequences alternate\n",
    "for i in range(0, len(data), 2):\n",
    "    true_seq = data.iloc[i]\n",
    "    generated_seq = data.iloc[i+1]\n",
    "    \n",
    "    # Compare each region\n",
    "    for region in regions:\n",
    "        true_region = true_seq[region]\n",
    "        generated_region = generated_seq[region]\n",
    "        \n",
    "        # Perform global alignment\n",
    "        alignment = aligner.align(true_region, generated_region)[0]\n",
    "        \n",
    "        # Extract aligned sequences\n",
    "        aligned_true = alignment[0]\n",
    "        aligned_generated = alignment[1]\n",
    "        \n",
    "        # Count the gaps\n",
    "        gaps_in_true = aligned_true.count(\"-\")\n",
    "        gaps_in_generated = aligned_generated.count(\"-\")\n",
    "        total_gaps = gaps_in_true + gaps_in_generated\n",
    "        \n",
    "        # Calculate alignment length (excluding gaps)\n",
    "        alignment_length = max(len(aligned_true), len(aligned_generated))\n",
    "        \n",
    "        # Normalize the gaps by alignment length\n",
    "        normalized_gap_value = total_gaps / alignment_length\n",
    "\n",
    "        # Update the sum of normalized gap values and count for this region\n",
    "        normalized_gap_sums[region] += normalized_gap_value\n",
    "        count_per_region[region] += 1\n",
    "\n",
    "# Calculate the average normalized gaps per region\n",
    "print(f\"count_per_region: {count_per_region}\")\n",
    "average_normalized_gaps = {region: normalized_gap_sums[region] / count_per_region[region] \n",
    "                           for region in regions}\n",
    "\n",
    "# Create a DataFrame to display the results\n",
    "average_normalized_gaps_df = pd.DataFrame(list(average_normalized_gaps.items()), columns=[\"Region\", \"Average Normalized Gaps\"])\n",
    "\n",
    "average_normalized_gaps_df\n",
    "\n",
    "#save the results to a CSV file\n",
    "average_normalized_gaps_df.to_csv(\"gap_analysis_results.csv\", index=False)"
   ],
   "id": "b39aa8cd1eb3062e",
   "outputs": [
    {
     "name": "stdout",
     "output_type": "stream",
     "text": [
      "count_per_region: {'fwr1_aa': 67209, 'cdr1_aa': 67209, 'fwr2_aa': 67209, 'cdr2_aa': 67209, 'fwr3_aa': 67209, 'cdr3_aa': 67209, 'fwr4_aa_correct': 67209}\n"
     ]
    }
   ],
   "execution_count": 43
  },
  {
   "metadata": {},
   "cell_type": "code",
   "outputs": [],
   "execution_count": null,
   "source": "",
   "id": "919efac0ae6359b2"
  }
 ],
 "metadata": {
  "kernelspec": {
   "display_name": "Python 3",
   "language": "python",
   "name": "python3"
  },
  "language_info": {
   "codemirror_mode": {
    "name": "ipython",
    "version": 2
   },
   "file_extension": ".py",
   "mimetype": "text/x-python",
   "name": "python",
   "nbconvert_exporter": "python",
   "pygments_lexer": "ipython2",
   "version": "2.7.6"
  }
 },
 "nbformat": 4,
 "nbformat_minor": 5
}
